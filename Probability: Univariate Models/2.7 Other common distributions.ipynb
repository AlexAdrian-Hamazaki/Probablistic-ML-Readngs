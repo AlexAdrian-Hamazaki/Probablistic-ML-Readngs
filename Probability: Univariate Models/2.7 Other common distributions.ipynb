{
 "cells": [
  {
   "cell_type": "markdown",
   "metadata": {},
   "source": [
    "# Gamma Distribution\n",
    "\n",
    "Distribution for positive real world values of x>0\n",
    "\n",
    "Defined with shape (a), and rate (b)\n",
    "\n",
    "### exponential distribution\n",
    "\n",
    "$Expon(x|\\lambda) = Ga(x|shape =1, rate = \\lambda)$\n",
    "\n",
    "special cases that describes times between events in a poissan process (process in which events occur continuously indepdnently at a rate $\\lambda$)\n",
    "\n",
    "### Chi square distribution\n",
    "\n",
    "where v is degrees of freedom\n",
    "\n",
    "The distribution models the sum of squares (resdiauals) of multiple gausian random variables\n",
    "\n",
    "\n",
    "$\\Chi^2 (x) = Ga(x|shape = \\frac{v}{2}, rate = \\frac{1}{2})$"
   ]
  },
  {
   "cell_type": "code",
   "execution_count": null,
   "metadata": {
    "vscode": {
     "languageId": "plaintext"
    }
   },
   "outputs": [],
   "source": []
  }
 ],
 "metadata": {
  "language_info": {
   "name": "python"
  }
 },
 "nbformat": 4,
 "nbformat_minor": 2
}
