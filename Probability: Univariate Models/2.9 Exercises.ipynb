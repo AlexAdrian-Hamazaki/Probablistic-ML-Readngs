{
 "cells": [
  {
   "cell_type": "markdown",
   "metadata": {},
   "source": [
    "# 2.1 Conditional independence\n",
    "\n",
    "In this quesiton we basically want to calculate the Cumulative probability distribution over $H\\in \\{1..K\\}$\n",
    "\n",
    "When we have two other random variables $E_1$ and $E_2$, and we have specificic observed values $e_1$ and $e_2$\n",
    "\n",
    "## Answer for 2.1.A\n",
    "\n",
    "### Bayes Rule for 1 probability distribution\n",
    "\n",
    "$\\rho(H=h|Y=y) = \\frac{\\rho(H=h)\\rho(Y=y|H=h)}{\\rho(Y=y)}$\n",
    "\n",
    "### Bayes Rule for joint probability distribution\n",
    "\n",
    "Assuming E1 E2 and H are indepednent, we can just use Bayes law with a joint distrubution\n",
    "\n",
    "$\\rho(H=h|E_1=e_1,E_2=e_2) = \\frac{\\rho(H=h)\\rho(E_1=e_1,E_2=e_2|H=h)}{\\rho(E_1=e_1,E_2=e_2)}$\n",
    "\n",
    "\n",
    "\n"
   ]
  },
  {
   "cell_type": "markdown",
   "metadata": {},
   "source": [
    "This means that to find our vector.\n",
    "\n",
    "We need \n",
    "\n",
    "$P(e_1,e_2), P(H), P(e_1,e_2|H)$, so the answer is ii"
   ]
  },
  {
   "cell_type": "markdown",
   "metadata": {
    "vscode": {
     "languageId": "plaintext"
    }
   },
   "source": [
    "## Answer for 2.1.B\n",
    "\n",
    "### Coinditional Independence\n",
    "\n",
    "If E2 and E1 are conditionally independent given H, then we can break down the conditonal probability\n",
    "\n",
    "We can no longer simply use the joint distributions and bayes normal laws because they E1 and E2 are not fully independent\n",
    "\n",
    "$P(H=1|e_1, e_2) = P(H=1|E_1=e_1) * P(H=1|E_2=e_2)$\n",
    "\n",
    "### Therefore we need $P(H_1|e_2) and P(H_1|e_1)$\n",
    "\n",
    "To get those, we use bayes law\n",
    "\n",
    "$P(1|e_1) = \\frac{P(1)*P(e_1|1)}{P(e_1)}$\n",
    "\n",
    "Therefore, we need\n",
    "\n",
    "$P(H)$, $P(e_1|H)$, $P(e_2|H)$\n",
    "\n",
    "Answer = iii"
   ]
  },
  {
   "cell_type": "markdown",
   "metadata": {},
   "source": [
    "# 2.2 Pairwise independence does not imply mutual independence"
   ]
  },
  {
   "cell_type": "markdown",
   "metadata": {
    "vscode": {
     "languageId": "plaintext"
    }
   },
   "source": [
    "### Pairwise independence\n",
    "\n",
    "$\\rho(X_2|X_1) = \\rho(X_2)$ means they are pairwise independent\n",
    "\n",
    "Given the formula for conditional independence...\n",
    "\n",
    "$\\rho(X_2, X_1) = \\rho(X_1)\\rho(X_2|X_1) = \\rho(X_1)\\rho(X_2)$\n",
    "\n",
    "So if two rvs are pairaise independent, their joint distribution is just multiplication of the two\n"
   ]
  },
  {
   "cell_type": "markdown",
   "metadata": {},
   "source": [
    "### Mutual independence\n",
    "\n",
    "n rvs are mutuaally independent if...\n",
    "\n",
    "$\\rho(X_{1:i}) = \\prod_{i=1}^n p(X_i)$"
   ]
  },
  {
   "cell_type": "markdown",
   "metadata": {},
   "source": [
    "Show that pairwise independence between all pairs of rvs does not necesssarily imply mutual independence.\n",
    "\n",
    "Use X3 = X1 OR X2\n",
    "\n",
    "P(X3|X1) =??"
   ]
  },
  {
   "cell_type": "markdown",
   "metadata": {
    "vscode": {
     "languageId": "plaintext"
    }
   },
   "source": [
    "# 2.9"
   ]
  },
  {
   "cell_type": "markdown",
   "metadata": {
    "vscode": {
     "languageId": "plaintext"
    }
   },
   "source": [
    "2.10"
   ]
  },
  {
   "cell_type": "markdown",
   "metadata": {
    "vscode": {
     "languageId": "plaintext"
    }
   },
   "source": [
    "2.11"
   ]
  },
  {
   "cell_type": "markdown",
   "metadata": {},
   "source": [
    "2.12"
   ]
  }
 ],
 "metadata": {
  "language_info": {
   "name": "python"
  }
 },
 "nbformat": 4,
 "nbformat_minor": 2
}
