{
 "cells": [
  {
   "cell_type": "markdown",
   "metadata": {},
   "source": [
    "# Frequentist vs Baysian\n",
    "\n",
    "2 view of probability\n",
    "- Frequentist:\n",
    "    - view probability as how frequently we expect an event to occur \n",
    "    - \"the coin will land tails as frequently as it does heads\"\n",
    "- Baysian\n",
    "    - view probability as how uncertain, or ignorant we are about something\n",
    "    - related to how much information we know as opposed to frequency\n",
    "    - \"we are equally certian that the coin will land as heads as we are tails\"\n",
    "    - This is really helpful to model the uncertainty/probability for events that do not have frequencies\n",
    "        - Polar ice caps melting"
   ]
  },
  {
   "cell_type": "markdown",
   "metadata": {},
   "source": [
    "# Two typs of uncertainty\n",
    "\n",
    "Model\n",
    "    - Uncertainty/Error in our model because we don't know something about the data - bad fit or not enough data\n",
    "Data Uncertainty\n",
    "    - Uncertainty due to irreducible error\n"
   ]
  },
  {
   "cell_type": "markdown",
   "metadata": {},
   "source": [
    "# Basic rules of probability\n",
    "\n",
    "Pr(A) = Probability that event A will happen  \n",
    "\n",
    "Pr(Ā) = Probability that event A will NOT happen\n",
    "\n",
    "### Joint Probability\n",
    "\n",
    "$\\wedge$ means AND\n",
    "\n",
    "$\\vee$ means OR\n",
    "\n",
    "Probability of both A and B happening\n",
    "\n",
    "Pr(A $\\wedge$ B) = Pr(A,B) = Pr(A)Pr(B) If A and B are independent\n",
    "\n",
    "\n",
    "\n",
    "Pr(A $\\vee$ B) = Pr(A) + Pr(B) - Pr(A $\\wedge$ B)\n",
    "\n"
   ]
  },
  {
   "cell_type": "markdown",
   "metadata": {},
   "source": [
    "### Conditional Probability\n",
    "\n",
    "Event of B happening given that A has occured\n",
    "\n",
    "Pr(A|B) = $\\frac{Pr(A,B)}{Pr(A)}$\n",
    "\n",
    "\n"
   ]
  },
  {
   "cell_type": "markdown",
   "metadata": {},
   "source": [
    "### Independent Events\n",
    "\n",
    "If A and B are independent, then\n",
    "\n",
    "Pr(A,B) = Pr(A)Pr(B)"
   ]
  },
  {
   "cell_type": "markdown",
   "metadata": {},
   "source": [
    "### Conditional independence of events\n",
    "\n",
    "If A and B are indepedndent given C occuring...\n",
    "\n",
    "Pr(A,B|C) = Pr(A|C)Pr(B|C)\n",
    "\n",
    "Events are often dependent, but independent given specific other intermediate variables"
   ]
  },
  {
   "cell_type": "markdown",
   "metadata": {
    "vscode": {
     "languageId": "plaintext"
    }
   },
   "source": [
    "# Random Variables\n",
    "\n",
    "Let X be a random variable\n",
    "\n",
    "$\\chi$ = The set of possible values, aka the state space, for X\n",
    "\n",
    "Then,\n",
    "\n",
    "The probability that X has value x is Pr(X=x)\n",
    "\n",
    "### Probability mass function\n",
    "\n",
    "The function that defines the probability that X=x given $\\chi$\n",
    "\n",
    "$\\rho$ = Pr(X=x)\n",
    "\n",
    "The pmf always satisfies 2 properyies\n",
    "\n",
    "\n",
    "1. The probability of a given x is always between 0 and 1\n",
    "\n",
    "     0<= $\\rho$(x) <=1\n",
    "\n",
    "2. The sum of the pmf is 1 \n",
    "\n",
    "    $\\sum_{x \\in \\chi} \\rho(x) = 1$"
   ]
  },
  {
   "cell_type": "markdown",
   "metadata": {},
   "source": [
    "# Continues Random Variables\n",
    "\n",
    "Technically, if X $\\in$ $\\real$, it is a continuous random variable and we cannot no longer create a finite set of values it can take on..\n",
    "\n",
    "But we can cheat by basically integrating/taking limit of small bins\n",
    "\n",
    "### Cumulative Distribution Function\n",
    "\n",
    "A function of the random variable X that models the probability that X is less than a given value x\n",
    "\n",
    "P(x) = Pr(X <= x) \n",
    "\n",
    "Note. Cap P represents pdf\n",
    "\n",
    "Helpfull for p value distributions\n",
    "\n",
    "### Probability Density Function\n",
    "\n",
    "We can define the pdf in terms of the cdf\n",
    "\n",
    "$\\rho$ = $\\frac{d}{dx} P(x)$\n",
    "\n",
    "This means the slope of the cdf at point x gives its probability in the pdf\n",
    "\n",
    "We can define the cdf in terms of the pdf. Or use the pdf to find the probability of some events occuring\n",
    "\n",
    "Pr(a < X <= b) = $\\int_a^b \\rho(x) dx$ = P(b) - P(a)\n",
    "\n",
    "What this formula tells you is that if you want to find the probability of events occuring, you can integrate the pdf, which gives you the cdf which you can\n",
    "find the area under of to tell you the probability of that range of events happening\n",
    "\n"
   ]
  },
  {
   "cell_type": "markdown",
   "metadata": {},
   "source": [
    "# Sets of random variables\n",
    "\n",
    "Suppose we have 2 random variables, X and Y\n",
    "\n",
    "### Joint Distribution\n",
    "\n",
    "We can define a probability distribution function that contains the probabilities\n",
    "of each pair of x and y occuring\n",
    "\n",
    "$\\rho$(x,y) = P(X=x, Y=y)\n",
    "\n",
    "### Marginal Distribution\n",
    "\n",
    "$\\rho$(x) and  $\\rho$(y) are called the marginals\n",
    "\n",
    "The marginal distribution of X is calculated by summing the probabilities of X over the possible values of Y\n",
    "\n",
    "$\\rho$(X=x) = $\\sum_y$ p(X=x, Y=y)\n",
    "\n",
    "### Conditional Joint Probabiliy -- The Product Rule\n",
    "\n",
    "Given a joint dist in which X and Y are conditionally related, we can define the conditional probability as follows\n",
    "\n",
    "$\\rho$(Y=y | X=x) = $\\frac{\\rho(X=x, Y=y)}{\\rho(X=x)}$\n",
    "\n",
    "Which can be rearanged to\n",
    "\n",
    "$\\rho(x,y) = \\rho(x)\\rho(y|x)$"
   ]
  },
  {
   "cell_type": "markdown",
   "metadata": {},
   "source": [
    "# Unconditional Independence\n",
    "\n",
    "X and Y are unconditionally independent aka marginally independent if the probabilty of X does not change the probability of Y  at all\n",
    "\n",
    "$X \\perp Y$\n",
    "\n",
    "If X and Y are unconditionally independent then their joint distributions are equal to the product of their marginals\n",
    "\n",
    "$\\rho(X, Y) == \\rho(X)\\rho(Y)$\n",
    "\n",
    "### More generalied formula for higher dimensions\n",
    "\n",
    "What this means is higher dimension probability distribution functions for unconditionally independent variables are just the multiplications of the marginal pdfs\n",
    "\n",
    "Note, $\\prod$ denotes product\n",
    "\n",
    "$\\rho\\text(X_1... X_m) = \\prod_{i=1}^m \\rho(X_i)$"
   ]
  },
  {
   "cell_type": "markdown",
   "metadata": {},
   "source": [
    "# Conditional Independence\n",
    "\n",
    "Most often, random variables are not independent. And often this influence is mediated by other variables\n",
    "\n",
    "X and Y are conditionally independent given Z if the conditional joint pdf can be writen as a product of the conditionals\n",
    "\n",
    "$X \\perp Y | Z <-> \\rho(X, Y|Z) = \\rho(X|Z)\\rho(Y|Z)$"
   ]
  }
 ],
 "metadata": {
  "language_info": {
   "name": "python"
  }
 },
 "nbformat": 4,
 "nbformat_minor": 2
}
