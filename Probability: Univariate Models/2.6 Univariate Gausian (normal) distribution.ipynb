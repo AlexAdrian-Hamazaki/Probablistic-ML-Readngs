{
 "cells": [
  {
   "cell_type": "markdown",
   "metadata": {},
   "source": [
    "# Cumulative distribution function\n",
    "\n",
    "\n",
    "Distribution where the value of the distribution of y is equal to the probability of observing y\n",
    "\n",
    "$P(y) = Pr(Y<=y)$\n",
    "\n",
    "We can compute the probability of viewing any interval of y values \n",
    "\n",
    "$Pr(a<Y <=b) = P(b) - P(a)$\n",
    "\n",
    "Cdfs are monotonically increasing\n",
    "\n",
    "The y values for P(0.25), P(0.5), and P(0.75) are are the quartiles of the distribution\n",
    "\n",
    "# Probability Density Function\n",
    "\n",
    "defined as the derivative of the cdf\n",
    "\n",
    "$\\rho(y) = \\frac{d}{d_y} P(y)$\n",
    "\n",
    "Consequently the integral of the pdf is the cdf.\n",
    "\n",
    "Given a pdf, we can compute the probability of a continuous variable being in a finite interval using integration\n",
    "\n",
    "$Pr(a<Y<=b) = \\int_a^b p(y)d_y = P(b) - P(a)$"
   ]
  },
  {
   "cell_type": "markdown",
   "metadata": {},
   "source": [
    "# Regression\n",
    "\n",
    "We can create gausians that are conditioned on functions (some input varialbes)\n",
    "\n",
    "$\\rho(y|x, \\theta) = N(y|f_\\mu (x;\\theta) , f_\\sigma (x;\\theta)^2)$\n",
    "\n",
    "Now the probability density function for y given x is dependent on a function that can take up x as inputs.\n",
    "\n",
    "It is commont oassume \n",
    "\n",
    "1.the variance is fixed as $\\sigma^2$\n",
    "2.The mean function can be represented as a linear function\n",
    "\n",
    "$f_\\mu (x;\\theta) = wT x + b $"
   ]
  },
  {
   "cell_type": "markdown",
   "metadata": {},
   "source": [
    "# Why use Gausians?\n",
    "\n",
    "1. Mean and std are easy to interpret\n",
    "2. Central limit theorm tells us that sums of independent random variables have an aproximately gausian distribution.\n",
    "3. Makes least number of assumptions other than mean and std"
   ]
  }
 ],
 "metadata": {
  "language_info": {
   "name": "python"
  }
 },
 "nbformat": 4,
 "nbformat_minor": 2
}
