{
 "cells": [
  {
   "cell_type": "markdown",
   "metadata": {},
   "source": [
    "A company conducts random drug tests on its employees. The test is:\n",
    "\n",
    "    98% accurate for users: it correctly detects drug use 98% of the time.\n",
    "\n",
    "    95% accurate for non-users: it correctly returns negative 95% of the time.\n",
    "\n",
    "In this company, only 1% of employees use drugs.\n",
    "Question:\n",
    "\n",
    "An employee is randomly tested and the result comes back positive. What is the probability that this employee actually uses drugs?"
   ]
  }
 ],
 "metadata": {
  "language_info": {
   "name": "python"
  }
 },
 "nbformat": 4,
 "nbformat_minor": 2
}
